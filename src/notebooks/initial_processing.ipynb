{
 "cells": [
  {
   "cell_type": "code",
   "execution_count": 6,
   "metadata": {},
   "outputs": [],
   "source": [
    "import pandas as pd\n",
    "import spotipy\n",
    "import requests\n",
    "import ast\n",
    "from typing import List\n",
    "from os import listdir\n",
    "import spotipy.util as util\n",
    "import json"
   ]
  },
  {
   "attachments": {},
   "cell_type": "markdown",
   "metadata": {},
   "source": [
    "use this https://towardsdatascience.com/get-your-spotify-streaming-history-with-python-d5a208bbcbd3"
   ]
  },
  {
   "attachments": {},
   "cell_type": "markdown",
   "metadata": {},
   "source": [
    "## Function to retrieve all streaming history jsons and convert to dicts."
   ]
  },
  {
   "cell_type": "code",
   "execution_count": null,
   "metadata": {},
   "outputs": [],
   "source": [
    "def get_streamings(path: str = 'MyData') -> List[dict]:\n",
    "    \n",
    "    files = ['MyData/' + x for x in listdir(path)\n",
    "             if x.split('.')[0][:-1] == 'StreamingHistory']\n",
    "    \n",
    "    all_streamings = []\n",
    "    \n",
    "    for file in files: \n",
    "        with open(file, 'r', encoding='UTF-8') as f:\n",
    "            new_streamings = ast.literal_eval(f.read())\n",
    "            all_streamings += [streaming for streaming \n",
    "                               in new_streamings]\n",
    "    return all_streamings"
   ]
  },
  {
   "attachments": {},
   "cell_type": "markdown",
   "metadata": {},
   "source": [
    "## Access song traits using Spotipy"
   ]
  },
  {
   "cell_type": "code",
   "execution_count": 16,
   "metadata": {},
   "outputs": [],
   "source": [
    "# load credentials file\n",
    "with open('/Users/alaina/Desktop/Other/Projects/music-listening-history-analyzer/config/creds.json', \"r\") as jsonfile:\n",
    "    data = json.load(jsonfile)"
   ]
  },
  {
   "cell_type": "code",
   "execution_count": 19,
   "metadata": {},
   "outputs": [
    {
     "ename": "KeyboardInterrupt",
     "evalue": "",
     "output_type": "error",
     "traceback": [
      "\u001b[0;31m---------------------------------------------------------------------------\u001b[0m",
      "\u001b[0;31mKeyboardInterrupt\u001b[0m                         Traceback (most recent call last)",
      "\u001b[1;32m/Users/alaina/Desktop/Other/Projects/music-listening-history-analyzer/src/notebooks/initial_processing.ipynb Cell 6\u001b[0m in \u001b[0;36m<cell line: 7>\u001b[0;34m()\u001b[0m\n\u001b[1;32m      <a href='vscode-notebook-cell:/Users/alaina/Desktop/Other/Projects/music-listening-history-analyzer/src/notebooks/initial_processing.ipynb#X10sZmlsZQ%3D%3D?line=3'>4</a>\u001b[0m redirect_uri \u001b[39m=\u001b[39m \u001b[39m'\u001b[39m\u001b[39mhttp://localhost:7778/callback\u001b[39m\u001b[39m'\u001b[39m\n\u001b[1;32m      <a href='vscode-notebook-cell:/Users/alaina/Desktop/Other/Projects/music-listening-history-analyzer/src/notebooks/initial_processing.ipynb#X10sZmlsZQ%3D%3D?line=4'>5</a>\u001b[0m scope \u001b[39m=\u001b[39m \u001b[39m'\u001b[39m\u001b[39muser-read-recently-played\u001b[39m\u001b[39m'\u001b[39m\n\u001b[0;32m----> <a href='vscode-notebook-cell:/Users/alaina/Desktop/Other/Projects/music-listening-history-analyzer/src/notebooks/initial_processing.ipynb#X10sZmlsZQ%3D%3D?line=6'>7</a>\u001b[0m token \u001b[39m=\u001b[39m util\u001b[39m.\u001b[39;49mprompt_for_user_token(username\u001b[39m=\u001b[39;49musername, \n\u001b[1;32m      <a href='vscode-notebook-cell:/Users/alaina/Desktop/Other/Projects/music-listening-history-analyzer/src/notebooks/initial_processing.ipynb#X10sZmlsZQ%3D%3D?line=7'>8</a>\u001b[0m                                    scope\u001b[39m=\u001b[39;49mscope, \n\u001b[1;32m      <a href='vscode-notebook-cell:/Users/alaina/Desktop/Other/Projects/music-listening-history-analyzer/src/notebooks/initial_processing.ipynb#X10sZmlsZQ%3D%3D?line=8'>9</a>\u001b[0m                                    client_id\u001b[39m=\u001b[39;49mclient_id,   \n\u001b[1;32m     <a href='vscode-notebook-cell:/Users/alaina/Desktop/Other/Projects/music-listening-history-analyzer/src/notebooks/initial_processing.ipynb#X10sZmlsZQ%3D%3D?line=9'>10</a>\u001b[0m                                    client_secret\u001b[39m=\u001b[39;49mclient_secret,     \n\u001b[1;32m     <a href='vscode-notebook-cell:/Users/alaina/Desktop/Other/Projects/music-listening-history-analyzer/src/notebooks/initial_processing.ipynb#X10sZmlsZQ%3D%3D?line=10'>11</a>\u001b[0m                                    redirect_uri\u001b[39m=\u001b[39;49mredirect_uri)\n",
      "File \u001b[0;32m~/opt/anaconda3/envs/venv1/lib/python3.8/site-packages/spotipy/util.py:99\u001b[0m, in \u001b[0;36mprompt_for_user_token\u001b[0;34m(username, scope, client_id, client_secret, redirect_uri, cache_path, oauth_manager, show_dialog)\u001b[0m\n\u001b[1;32m     96\u001b[0m token_info \u001b[39m=\u001b[39m sp_oauth\u001b[39m.\u001b[39mvalidate_token(sp_oauth\u001b[39m.\u001b[39mcache_handler\u001b[39m.\u001b[39mget_cached_token())\n\u001b[1;32m     98\u001b[0m \u001b[39mif\u001b[39;00m \u001b[39mnot\u001b[39;00m token_info:\n\u001b[0;32m---> 99\u001b[0m     code \u001b[39m=\u001b[39m sp_oauth\u001b[39m.\u001b[39;49mget_auth_response()\n\u001b[1;32m    100\u001b[0m     token \u001b[39m=\u001b[39m sp_oauth\u001b[39m.\u001b[39mget_access_token(code, as_dict\u001b[39m=\u001b[39m\u001b[39mFalse\u001b[39;00m)\n\u001b[1;32m    101\u001b[0m \u001b[39melse\u001b[39;00m:\n",
      "File \u001b[0;32m~/opt/anaconda3/envs/venv1/lib/python3.8/site-packages/spotipy/oauth2.py:490\u001b[0m, in \u001b[0;36mSpotifyOAuth.get_auth_response\u001b[0;34m(self, open_browser)\u001b[0m\n\u001b[1;32m    483\u001b[0m \u001b[39mif\u001b[39;00m (\n\u001b[1;32m    484\u001b[0m         open_browser\n\u001b[1;32m    485\u001b[0m         \u001b[39mand\u001b[39;00m redirect_host \u001b[39min\u001b[39;00m (\u001b[39m\"\u001b[39m\u001b[39m127.0.0.1\u001b[39m\u001b[39m\"\u001b[39m, \u001b[39m\"\u001b[39m\u001b[39mlocalhost\u001b[39m\u001b[39m\"\u001b[39m)\n\u001b[1;32m    486\u001b[0m         \u001b[39mand\u001b[39;00m redirect_info\u001b[39m.\u001b[39mscheme \u001b[39m==\u001b[39m \u001b[39m\"\u001b[39m\u001b[39mhttp\u001b[39m\u001b[39m\"\u001b[39m\n\u001b[1;32m    487\u001b[0m ):\n\u001b[1;32m    488\u001b[0m     \u001b[39m# Only start a local http server if a port is specified\u001b[39;00m\n\u001b[1;32m    489\u001b[0m     \u001b[39mif\u001b[39;00m redirect_port:\n\u001b[0;32m--> 490\u001b[0m         \u001b[39mreturn\u001b[39;00m \u001b[39mself\u001b[39;49m\u001b[39m.\u001b[39;49m_get_auth_response_local_server(redirect_port)\n\u001b[1;32m    491\u001b[0m     \u001b[39melse\u001b[39;00m:\n\u001b[1;32m    492\u001b[0m         logger\u001b[39m.\u001b[39mwarning(\u001b[39m'\u001b[39m\u001b[39mUsing `\u001b[39m\u001b[39m%s\u001b[39;00m\u001b[39m` as redirect URI without a port. \u001b[39m\u001b[39m'\u001b[39m\n\u001b[1;32m    493\u001b[0m                        \u001b[39m'\u001b[39m\u001b[39mSpecify a port (e.g. `\u001b[39m\u001b[39m%s\u001b[39;00m\u001b[39m:8080`) to allow \u001b[39m\u001b[39m'\u001b[39m\n\u001b[1;32m    494\u001b[0m                        \u001b[39m'\u001b[39m\u001b[39mautomatic retrieval of authentication code \u001b[39m\u001b[39m'\u001b[39m\n\u001b[1;32m    495\u001b[0m                        \u001b[39m'\u001b[39m\u001b[39minstead of having to copy and paste \u001b[39m\u001b[39m'\u001b[39m\n\u001b[1;32m    496\u001b[0m                        \u001b[39m'\u001b[39m\u001b[39mthe URL your browser is redirected to.\u001b[39m\u001b[39m'\u001b[39m,\n\u001b[1;32m    497\u001b[0m                        redirect_host, redirect_host)\n",
      "File \u001b[0;32m~/opt/anaconda3/envs/venv1/lib/python3.8/site-packages/spotipy/oauth2.py:459\u001b[0m, in \u001b[0;36mSpotifyOAuth._get_auth_response_local_server\u001b[0;34m(self, redirect_port)\u001b[0m\n\u001b[1;32m    457\u001b[0m server \u001b[39m=\u001b[39m start_local_http_server(redirect_port)\n\u001b[1;32m    458\u001b[0m \u001b[39mself\u001b[39m\u001b[39m.\u001b[39m_open_auth_url()\n\u001b[0;32m--> 459\u001b[0m server\u001b[39m.\u001b[39;49mhandle_request()\n\u001b[1;32m    461\u001b[0m \u001b[39mif\u001b[39;00m server\u001b[39m.\u001b[39merror \u001b[39mis\u001b[39;00m \u001b[39mnot\u001b[39;00m \u001b[39mNone\u001b[39;00m:\n\u001b[1;32m    462\u001b[0m     \u001b[39mraise\u001b[39;00m server\u001b[39m.\u001b[39merror\n",
      "File \u001b[0;32m~/opt/anaconda3/envs/venv1/lib/python3.8/socketserver.py:294\u001b[0m, in \u001b[0;36mBaseServer.handle_request\u001b[0;34m(self)\u001b[0m\n\u001b[1;32m    291\u001b[0m selector\u001b[39m.\u001b[39mregister(\u001b[39mself\u001b[39m, selectors\u001b[39m.\u001b[39mEVENT_READ)\n\u001b[1;32m    293\u001b[0m \u001b[39mwhile\u001b[39;00m \u001b[39mTrue\u001b[39;00m:\n\u001b[0;32m--> 294\u001b[0m     ready \u001b[39m=\u001b[39m selector\u001b[39m.\u001b[39;49mselect(timeout)\n\u001b[1;32m    295\u001b[0m     \u001b[39mif\u001b[39;00m ready:\n\u001b[1;32m    296\u001b[0m         \u001b[39mreturn\u001b[39;00m \u001b[39mself\u001b[39m\u001b[39m.\u001b[39m_handle_request_noblock()\n",
      "File \u001b[0;32m~/opt/anaconda3/envs/venv1/lib/python3.8/selectors.py:415\u001b[0m, in \u001b[0;36m_PollLikeSelector.select\u001b[0;34m(self, timeout)\u001b[0m\n\u001b[1;32m    413\u001b[0m ready \u001b[39m=\u001b[39m []\n\u001b[1;32m    414\u001b[0m \u001b[39mtry\u001b[39;00m:\n\u001b[0;32m--> 415\u001b[0m     fd_event_list \u001b[39m=\u001b[39m \u001b[39mself\u001b[39;49m\u001b[39m.\u001b[39;49m_selector\u001b[39m.\u001b[39;49mpoll(timeout)\n\u001b[1;32m    416\u001b[0m \u001b[39mexcept\u001b[39;00m \u001b[39mInterruptedError\u001b[39;00m:\n\u001b[1;32m    417\u001b[0m     \u001b[39mreturn\u001b[39;00m ready\n",
      "\u001b[0;31mKeyboardInterrupt\u001b[0m: "
     ]
    }
   ],
   "source": [
    "username = data['username']\n",
    "client_id = data['client_id']\n",
    "client_secret = data['client_secret']\n",
    "redirect_uri = 'http://localhost:7778/callback'\n",
    "scope = 'user-read-recently-played'\n",
    "\n",
    "token = util.prompt_for_user_token(username=username, \n",
    "                                   scope=scope, \n",
    "                                   client_id=client_id,   \n",
    "                                   client_secret=client_secret,     \n",
    "                                   redirect_uri=redirect_uri)"
   ]
  },
  {
   "attachments": {},
   "cell_type": "markdown",
   "metadata": {},
   "source": []
  }
 ],
 "metadata": {
  "kernelspec": {
   "display_name": "venv1",
   "language": "python",
   "name": "python3"
  },
  "language_info": {
   "codemirror_mode": {
    "name": "ipython",
    "version": 3
   },
   "file_extension": ".py",
   "mimetype": "text/x-python",
   "name": "python",
   "nbconvert_exporter": "python",
   "pygments_lexer": "ipython3",
   "version": "3.8.13"
  },
  "orig_nbformat": 4,
  "vscode": {
   "interpreter": {
    "hash": "ac5508c8e1df463d7330a5b60a5e0a1103f1ed14a99f651bccdac65323c1446a"
   }
  }
 },
 "nbformat": 4,
 "nbformat_minor": 2
}
